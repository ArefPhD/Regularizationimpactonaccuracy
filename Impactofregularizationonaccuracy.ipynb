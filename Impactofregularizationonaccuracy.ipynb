{
  "nbformat": 4,
  "nbformat_minor": 0,
  "metadata": {
    "colab": {
      "private_outputs": true,
      "provenance": []
    },
    "kernelspec": {
      "name": "python3",
      "display_name": "Python 3"
    },
    "language_info": {
      "name": "python"
    }
  },
  "cells": [
    {
      "cell_type": "code",
      "execution_count": null,
      "metadata": {
        "id": "5X3Y9Zl4lCtu"
      },
      "outputs": [],
      "source": [
        "from tensorflow.keras.datasets import fashion_mnist\n",
        "from tensorflow.keras.utils import to_categorical\n",
        "\n",
        "# Load data\n",
        "(X_train, y_train), (X_test, y_test) = fashion_mnist.load_data()\n",
        "\n",
        "# Preprocess data\n",
        "X_train = X_train.reshape((60000, 28*28))\n",
        "X_test = X_test.reshape((10000, 28*28))\n",
        "X_train = X_train.astype('float32') / 255.0\n",
        "X_test = X_test.astype('float32') / 255.0\n",
        "y_train = to_categorical(y_train)\n",
        "y_test = to_categorical(y_test)\n"
      ]
    },
    {
      "cell_type": "code",
      "source": [
        "from tensorflow.keras.models import Sequential\n",
        "from tensorflow.keras.layers import Dense\n",
        "from tensorflow.keras.optimizers import Adam\n",
        "\n",
        "# Define the model architecture\n",
        "model = Sequential()\n",
        "model.add(Dense(64, activation='relu', input_shape=(28*28,)))\n",
        "model.add(Dense(64, activation='relu'))\n",
        "model.add(Dense(10, activation='softmax'))\n",
        "\n",
        "# Compile the model\n",
        "model.compile(optimizer=Adam(), loss='categorical_crossentropy', metrics=['accuracy'])\n"
      ],
      "metadata": {
        "id": "MvbQ0V-7lFeU"
      },
      "execution_count": null,
      "outputs": []
    },
    {
      "cell_type": "code",
      "source": [
        "# Train the model without regularization\n",
        "history_no_reg = model.fit(X_train, y_train, validation_data=(X_test, y_test), epochs=10, batch_size=64)\n",
        "\n",
        "# Train the model with L2 regularization\n",
        "from tensorflow.keras import regularizers\n",
        "\n",
        "model_l2 = Sequential()\n",
        "model_l2.add(Dense(64, activation='relu', input_shape=(28*28,), kernel_regularizer=regularizers.l2(0.001)))\n",
        "model_l2.add(Dense(64, activation='relu', kernel_regularizer=regularizers.l2(0.001)))\n",
        "model_l2.add(Dense(10, activation='softmax'))\n",
        "\n",
        "model_l2.compile(optimizer=Adam(), loss='categorical_crossentropy', metrics=['accuracy'])\n",
        "\n",
        "history_l2 = model_l2.fit(X_train, y_train, validation_data=(X_test, y_test), epochs=10, batch_size=64)\n"
      ],
      "metadata": {
        "id": "4cxyrKWdlHVd"
      },
      "execution_count": null,
      "outputs": []
    },
    {
      "cell_type": "code",
      "source": [
        "import matplotlib.pyplot as plt\n",
        "\n",
        "# Plot the training accuracy\n",
        "plt.plot(history_no_reg.history['accuracy'], label='No regularization')\n",
        "plt.plot(history_l2.history['accuracy'], label='L2 regularization')\n",
        "plt.xlabel('Epoch')\n",
        "plt.ylabel('Accuracy')\n",
        "plt.legend()\n",
        "plt.show()\n"
      ],
      "metadata": {
        "id": "6OE6asKslI31"
      },
      "execution_count": null,
      "outputs": []
    },
    {
      "cell_type": "code",
      "source": [
        "from tensorflow.keras import regularizers\n",
        "\n",
        "# Define the model architecture with L1 regularization\n",
        "model_l1 = Sequential()\n",
        "model_l1.add(Dense(64, activation='relu', input_shape=(28*28,), kernel_regularizer=regularizers.l1(0.001)))\n",
        "model_l1.add(Dense(64, activation='relu', kernel_regularizer=regularizers.l1(0.001)))\n",
        "model_l1.add(Dense(10, activation='softmax'))\n",
        "\n",
        "model_l1.compile(optimizer=Adam(), loss='categorical_crossentropy', metrics=['accuracy'])\n",
        "\n",
        "# Train the model with L1 regularization\n",
        "history_l1 = model_l1.fit(X_train, y_train, validation_data=(X_test, y_test), epochs=10, batch_size=64)\n",
        "\n",
        "# Plot the training accuracy for all models\n",
        "plt.plot(history_no_reg.history['accuracy'], label='No regularization')\n",
        "plt.plot(history_l1.history['accuracy'], label='L1 regularization')\n",
        "plt.plot(history_l2.history['accuracy'], label='L2 regularization')\n",
        "plt.xlabel('Epoch')\n",
        "plt.ylabel('Accuracy')\n",
        "plt.legend()\n",
        "plt.show()"
      ],
      "metadata": {
        "id": "r84CRuPOmbmU"
      },
      "execution_count": null,
      "outputs": []
    },
    {
      "cell_type": "code",
      "source": [
        "import matplotlib.pyplot as plt\n",
        "import matplotlib.animation as animation\n",
        "\n",
        "fig = plt.figure()\n",
        "\n",
        "# Define the number of epochs to plot\n",
        "n_epochs = 10\n",
        "\n",
        "# Define the update function for the animation\n",
        "def update_plot(i):\n",
        "    plt.clf()\n",
        "    plt.plot(history_no_reg.history['accuracy'][:i+1], label='No regularization')\n",
        "    plt.plot(history_l1.history['accuracy'][:i+1], label='L1 regularization')\n",
        "    plt.plot(history_l2.history['accuracy'][:i+1], label='L2 regularization')\n",
        "    plt.xlabel('Epoch')\n",
        "    plt.ylabel('Accuracy')\n",
        "    plt.legend()\n",
        "    plt.title('Training Accuracy (Epoch {})'.format(i+1))\n",
        "    plt.ylim([0.5, 1])\n",
        "    plt.xlim([0, n_epochs])\n",
        "\n",
        "# Create the animation and save it as a GIF\n",
        "Writer = animation.writers['pillow']\n",
        "writer = Writer(fps=5)\n",
        "\n",
        "anim = animation.FuncAnimation(fig, update_plot, frames=n_epochs, repeat=False)\n",
        "anim.save('training_accuracy.gif', writer=writer)\n"
      ],
      "metadata": {
        "id": "l9BEDE8Tm-O7"
      },
      "execution_count": null,
      "outputs": []
    },
    {
      "cell_type": "code",
      "source": [
        "import plotly.graph_objs as go\n",
        "import plotly.express as px\n",
        "import numpy as np\n",
        "\n",
        "# Define the number of epochs to plot\n",
        "n_epochs = 10\n",
        "\n",
        "# Create the data for the plot\n",
        "data = []\n",
        "for i in range(n_epochs):\n",
        "    data.append({'epoch': i+1, 'accuracy': history_no_reg.history['accuracy'][i], 'regularization': 'No regularization'})\n",
        "    data.append({'epoch': i+1, 'accuracy': history_l1.history['accuracy'][i], 'regularization': 'L1 regularization'})\n",
        "    data.append({'epoch': i+1, 'accuracy': history_l2.history['accuracy'][i], 'regularization': 'L2 regularization'})\n",
        "\n",
        "# Create a separate trace for each regularization type\n",
        "traces = []\n",
        "for reg_type in ['No regularization', 'L1 regularization', 'L2 regularization']:\n",
        "    reg_data = [d for d in data if d['regularization'] == reg_type]\n",
        "    trace = go.Scatter(x=[d['epoch'] for d in reg_data],\n",
        "                       y=[d['accuracy'] for d in reg_data],\n",
        "                       mode='lines+markers',\n",
        "                       name=reg_type,\n",
        "                       line=dict(dash='dashdot' if reg_type == 'L1 regularization' else 'solid')\n",
        "                      )\n",
        "    traces.append(trace)\n",
        "\n",
        "# Create the animated plot\n",
        "fig = go.Figure(data=traces,\n",
        "                layout=go.Layout(xaxis=dict(range=[0, n_epochs], title='Epoch'),\n",
        "                                 yaxis=dict(range=[0.5, 1], title='Accuracy'),\n",
        "                                 title='Training Accuracy',\n",
        "                                 updatemenus=[dict(type='buttons',\n",
        "                                                   showactive=False,\n",
        "                                                   buttons=[dict(label='Play',\n",
        "                                                                 method='animate',\n",
        "                                                                 args=[None,\n",
        "                                                                       dict(frame=dict(duration=100, redraw=True),\n",
        "                                                                            fromcurrent=True,\n",
        "                                                                            transition=dict(duration=0, easing='linear'),\n",
        "                                                                            mode='immediate'\n",
        "                                                                           )\n",
        "                                                                      ]\n",
        "                                                                ),\n",
        "                                                            dict(label='Pause',\n",
        "                                                                 method='animate',\n",
        "                                                                 args=[[None], dict(frame=dict(duration=0, redraw=True), mode='immediate')]\n",
        "                                                                )\n",
        "                                                           ]\n",
        "                                                  )\n",
        "                                            ]\n",
        "                               ),\n",
        "                frames=[go.Frame(data=[go.Scatter(x=[d['epoch'] for d in data if d['regularization'] == reg_type and d['epoch'] <= k],\n",
        "                                                  y=[d['accuracy'] for d in data if d['regularization'] == reg_type and d['epoch'] <= k],\n",
        "                                                  mode='lines+markers',\n",
        "                                                  line=dict(dash='dashdot' if reg_type == 'L1 regularization' else 'solid')\n",
        "                                                 ) for reg_type in ['No regularization', 'L1 regularization', 'L2 regularization']],\n",
        "                                 name=str(k+1)\n",
        "                                ) for k in range(n_epochs)]\n",
        "               )\n",
        "\n",
        "# Show the plot\n",
        "fig.show()\n"
      ],
      "metadata": {
        "id": "0CEIfYzooL0q"
      },
      "execution_count": null,
      "outputs": []
    },
    {
      "cell_type": "code",
      "source": [
        "from google.colab import files\n",
        "\n",
        "# Download the GIF file\n",
        "files.download('training_accuracy.gif')"
      ],
      "metadata": {
        "id": "JYwlDLCanSbE"
      },
      "execution_count": null,
      "outputs": []
    }
  ]
}